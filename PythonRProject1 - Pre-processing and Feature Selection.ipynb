{
 "cells": [
  {
   "cell_type": "code",
   "execution_count": 500,
   "id": "65ee22d8",
   "metadata": {},
   "outputs": [],
   "source": [
    "import pandas as pd \n",
    "import os\n",
    "from dateutil.relativedelta import relativedelta\n",
    "\n",
    "\n",
    "def list_files(directory):\n",
    "    paths = []\n",
    "    for root, dirs, files in os.walk(directory):\n",
    "        for file in files:\n",
    "            paths += [os.path.join(root, file)]\n",
    "    return paths\n",
    "#             print(os.path.join(root, file))\n",
    "\n",
    "def get_null_columns(df):\n",
    "    null_dict = {'field':[], 'proportion':[]}\n",
    "    for col in df.columns:\n",
    "        null_count = df[col].isnull().sum()\n",
    "        prop = null_count / df.shape[0]\n",
    "        \n",
    "        null_dict['field'] += [col]\n",
    "        null_dict['proportion'] += [prop]\n",
    "        \n",
    "    return pd.DataFrame(null_dict).sort_values(by='proportion', ascending=False)\n",
    "\n",
    "\n",
    "# Function to determine and apply the appropriate aggregation method\n",
    "def aggregate_by_dtype(df, groupby_cols):\n",
    "    # Define custom aggregation function for mode\n",
    "    def most_common(series):\n",
    "        return series.mode()[0] if not series.mode().empty else np.nan\n",
    "\n",
    "    # Dictionary to hold column names and their respective aggregation functions\n",
    "    agg_funcs = {}\n",
    "\n",
    "    # Loop through each column in the DataFrame\n",
    "    for col in df.columns:\n",
    "        # Skip columns used for grouping\n",
    "        if col in groupby_cols:\n",
    "            continue\n",
    "        # Apply median for numeric columns\n",
    "        if pd.api.types.is_numeric_dtype(df[col]):\n",
    "            agg_funcs[col] = 'median'\n",
    "        # Apply custom mode function for non-numeric (categorical) columns\n",
    "        else:\n",
    "            agg_funcs[col] = most_common\n",
    "\n",
    "    # Group and aggregate the DataFrame\n",
    "    aggregated_df = df.groupby(groupby_cols).agg(agg_funcs).reset_index()\n",
    "    return aggregated_df\n",
    "\n"
   ]
  },
  {
   "cell_type": "markdown",
   "id": "8e94098c",
   "metadata": {},
   "source": [
    "# Let's read in demographic data\n",
    "\n",
    "https://wonder.cdc.gov/population-projections.html"
   ]
  },
  {
   "cell_type": "code",
   "execution_count": 216,
   "id": "f4e7e229",
   "metadata": {},
   "outputs": [],
   "source": [
    "#### 2019 Data ####\n",
    "\n",
    "df_2019 = pd.read_csv('data/demographic/2019_demo.txt', sep='\\t')\n",
    "df_2019 = df_2019.drop('Notes',axis=1)\n",
    "# df_2019.dropna(subset=['State'], inplace=True)\n",
    "df_2019.dropna(subset=['State', 'Year', 'Age Group'])\n",
    "# Pivot table\n",
    "# Remove duplicate entries\n",
    "df_2019.drop_duplicates(subset=['State', 'Year', 'Age Group'], inplace=True)\n",
    "\n",
    "# Pivot table\n",
    "df_pivoted = df_2019.pivot(index=['State', 'Year'], columns='Age Group', values='Projected Populations').reset_index()\n",
    "# df_pivoted['Projected Populations'] = df_pivoted.sum(axis=1)\n",
    "df_2019 = df_pivoted.dropna()\n",
    "\n",
    "#### 2023 Data ####\n",
    "df_2023 = pd.read_csv('data/demographic/2023_demo.txt', sep='\\t')\n",
    "df_2023 = df_2023.drop('Notes',axis=1)\n",
    "# df_2019.dropna(subset=['State'], inplace=True)\n",
    "df_2023.dropna(subset=['State', 'Year', 'Age Group'])\n",
    "# Pivot table\n",
    "# Remove duplicate entries\n",
    "df_2023.drop_duplicates(subset=['State', 'Year', 'Age Group'], inplace=True)\n",
    "\n",
    "# Pivot table\n",
    "df_pivoted = df_2023.pivot(index=['State', 'Year'], columns='Age Group', values='Projected Populations').reset_index()\n",
    "\n",
    "df_2023 = df_pivoted.dropna()"
   ]
  },
  {
   "cell_type": "code",
   "execution_count": 219,
   "id": "368169ce",
   "metadata": {},
   "outputs": [
    {
     "data": {
      "text/plain": [
       "0      2019\n",
       "1      2019\n",
       "2      2019\n",
       "3      2019\n",
       "4      2019\n",
       "       ... \n",
       "97     2023\n",
       "98     2023\n",
       "99     2023\n",
       "100    2023\n",
       "101    2023\n",
       "Name: Year, Length: 102, dtype: object"
      ]
     },
     "execution_count": 219,
     "metadata": {},
     "output_type": "execute_result"
    }
   ],
   "source": [
    "df_2023[df_2023['State']=='Alabama']\n",
    "df_2019_2023['Year'].astype(str)"
   ]
  },
  {
   "cell_type": "markdown",
   "id": "0dabcc50",
   "metadata": {},
   "source": [
    "### Straight line average on the monthly level"
   ]
  },
  {
   "cell_type": "code",
   "execution_count": 474,
   "id": "8642a1f4",
   "metadata": {},
   "outputs": [],
   "source": [
    "import pandas as pd\n",
    "from datetime import datetime\n",
    "\n",
    "df_2019_2023 = pd.concat([df_2019, df_2023], ignore_index=True).reset_index(drop=True)\n",
    "# Convert the 'Year' column to datetime format\n",
    "df_2019_2023['Year'] = df_2019_2023['Year'].astype(int).astype(str)\n",
    "\n",
    "# df_2019_2023 = df_2019_2023.drop('index',axis=1)\n",
    "\n",
    "static_cols = ['State', 'Year']\n",
    "census_cols = ['0-4 years','10-14 years',  '15-19 years',  '20-24 years',  '25-29 years',\n",
    "        '30-34 years',  '35-39 years',  '40-44 years',  '45-49 years',\n",
    "          '5-9 years',  '50-54 years',  '55-59 years', '60-64 years ',\n",
    "        '65-69 years',  '70-74 years',  '75-79 years',  '80-84 years','85+ years']\n",
    "\n",
    "# Define the start and end dates (hard-coding these in)\n",
    "start_date = datetime(2019, 4, 1)\n",
    "end_date = datetime(2023, 4, 1)\n",
    "\n",
    "total_months = (end_date.year - start_date.year) * 12 + end_date.month - start_date.month + 1 # Calculate the total number of months\n",
    "\n",
    "result_df = pd.DataFrame() # Initialize an empty DataFrame for the results\n",
    "\n",
    "\n",
    "\n",
    "for state in df_2019_2023['State'].unique():\n",
    "#     print(state)\n",
    "    state_df = df_2019_2023[df_2019_2023['State']==state]\n",
    "    \n",
    "    start_values = state_df.loc[state_df['Year'] == '2019', census_cols].iloc[0]\n",
    "    end_values = state_df.loc[state_df['Year'] == '2023', census_cols].iloc[0]\n",
    "    increments = (end_values - start_values) / (total_months - 1)\n",
    "    \n",
    "#     print(increments)\n",
    "    \n",
    "    # Generate new rows\n",
    "    new_rows = []\n",
    "    for month in range(total_months):\n",
    "        monthly_values = start_values + increments * month\n",
    "        new_row = monthly_values.to_dict()\n",
    "        new_row.update(state_df.loc[state_df['Year'] == '2019', static_cols].iloc[0].to_dict())  # Update with static values\n",
    "        new_row['date'] = start_date + pd.DateOffset(months=month)\n",
    "        new_rows.append(new_row)\n",
    " \n",
    "        # Append new rows to the result DataFrame\n",
    "    result_df = pd.concat([result_df, pd.DataFrame(new_rows)], ignore_index=True)\n",
    "\n",
    "demo_df = result_df\n",
    "demo_df['year'] = demo_df['date'].dt.year\n",
    "demo_df['month'] = demo_df['date'].dt.month\n",
    "\n",
    "demo_df = demo_df.rename(columns={'State':'state'})"
   ]
  },
  {
   "cell_type": "code",
   "execution_count": 236,
   "id": "c06afbbf",
   "metadata": {
    "collapsed": true,
    "jupyter": {
     "outputs_hidden": true
    }
   },
   "outputs": [
    {
     "data": {
      "image/png": "[encoded data removed]",
      "text/plain": [
       "<Figure size 1000x600 with 1 Axes>"
      ]
     },
     "metadata": {},
     "output_type": "display_data"
    }
   ],
   "source": [
    "test_df = demo_df[['State','Year', 'date', '0-4 years' ]].sort_values(['State','date'])\n",
    "test_df=test_df[test_df['State']=='Alabama']\n",
    "first_row = test_df.head(1)\n",
    "\n",
    "# Last row\n",
    "last_row = test_df.tail(1)\n",
    "\n",
    "# little sanity check \n",
    "print(df_2023[df_2023['State']=='Alabama']['0-4 years'], first_row['0-4 years'])\n",
    "\n",
    "import matplotlib.pyplot as plt\n",
    "\n",
    "test_df = result_df[['State','Year', 'date', '0-4 years' ]].sort_values(['State','date'])\n",
    "test_df=test_df[test_df['State']=='Alabama']\n",
    "first_row = test_df.head(1)\n",
    "\n",
    "# Last row\n",
    "last_row = test_df.tail(1)\n",
    "# Plot all rows\n",
    "plt.figure(figsize=(10, 6))\n",
    "\n",
    "# Plotting all rows\n",
    "plt.plot(test_df['date'], test_df['0-4 years'], label='All Rows', color='blue')\n",
    "\n",
    "# Highlight first row\n",
    "plt.scatter(first_row['date'], first_row['0-4 years'], color='green', label='First Row', s=100)\n",
    "\n",
    "# Highlight last row\n",
    "plt.scatter(last_row['date'], last_row['0-4 years'], color='red', label='Last Row', s=100)\n",
    "\n",
    "# Adding labels and title\n",
    "plt.xlabel('Date')\n",
    "plt.ylabel('0-4 years')\n",
    "plt.title('Plot of \"0-4 years\" against Date with First and Last Rows Highlighted')\n",
    "plt.legend()\n",
    "plt.grid(True)\n",
    "plt.show()\n"
   ]
  },
  {
   "cell_type": "markdown",
   "id": "29126b06",
   "metadata": {},
   "source": [
    "## Population Estimates (projections)\n",
    "\n",
    "https://www.census.gov/data/tables/time-series/demo/popest/2020s-state-total.html\n"
   ]
  },
  {
   "cell_type": "code",
   "execution_count": 480,
   "id": "9d27c544",
   "metadata": {},
   "outputs": [],
   "source": [
    "pop_df = pd.read_csv('data/demographic/NST-EST2022-ALLDATA.csv')\n",
    "pop_df = pop_df[pop_df['NAME'].isin(demo_df['state'].unique())]\n",
    "\n",
    "pop_df.columns\n",
    "\n",
    "keep = ['POPESTIMATE2020', 'POPESTIMATE2021', 'POPESTIMATE2022','State']\n",
    "pop_df['state'] = pop_df['NAME']\n",
    "\n",
    "pop_dict = {'state':[], 'year':[], 'PopEstimate':[]}\n",
    "for idx,row in pop_df.iterrows():\n",
    "    pop_dict['state'] += [row['state']]\n",
    "    pop_dict['year'] += [2020]\n",
    "    pop_dict['PopEstimate'] += [row['POPESTIMATE2020']]\n",
    "    \n",
    "    pop_dict['state'] += [row['state']]\n",
    "    pop_dict['year'] += [2021]\n",
    "    pop_dict['PopEstimate'] += [row['POPESTIMATE2021']]\n",
    "    \n",
    "    pop_dict['state'] += [row['state']]\n",
    "    pop_dict['year'] += [2022]\n",
    "    pop_dict['PopEstimate'] += [row['POPESTIMATE2022']]\n",
    "    \n",
    "pop_df = pd.DataFrame(pop_dict)\n"
   ]
  },
  {
   "cell_type": "markdown",
   "id": "614f5729",
   "metadata": {},
   "source": [
    "## Load in Covid policy datasets"
   ]
  },
  {
   "cell_type": "code",
   "execution_count": 482,
   "id": "485fe18e",
   "metadata": {},
   "outputs": [],
   "source": [
    "covid_df = pd.read_csv('data/demographic/covid.csv')\n",
    "\n",
    "covid_df['date'] = pd.to_datetime(covid_df['Date'], format='%Y%m%d')\n",
    "covid_df = covid_df[covid_df['RegionName'].notna()]\n",
    "null_df = get_null_columns(covid_df)\n",
    "covid_df = covid_df[null_df[null_df['proportion'] == 0.0]['field'].values]\n",
    "\n",
    "# Extract year and month from 'Date' column\n",
    "covid_df['year'] = covid_df['date'].dt.year\n",
    "covid_df['month'] = covid_df['date'].dt.month\n",
    "covid_df.columns\n",
    "groupby_cols = ['year', 'month', 'RegionCode', 'RegionName', 'CountryName', 'Jurisdiction', 'CountryCode']\n",
    "covid_aggregated_df = aggregate_by_dtype(covid_df, groupby_cols)\n",
    "covid_aggregated_df = covid_aggregated_df.rename(columns={'RegionName':'state'})\n",
    "# print(covid_aggregated_df['month'].unique(),aggregated_df['month'].unique())"
   ]
  },
  {
   "cell_type": "markdown",
   "id": "7af24d75",
   "metadata": {},
   "source": [
    "# Combine Data\n",
    "* New york times dataset (deaths)\n",
    "* CDC Vaccine Info\n",
    "* CDC population projects"
   ]
  },
  {
   "cell_type": "code",
   "execution_count": 469,
   "id": "a2e17d61",
   "metadata": {},
   "outputs": [
    {
     "data": {
      "text/plain": [
       "Index(['state', 'state_abbreviation', 'date', 'index',\n",
       "       'doses_distributed_cumulative', 'doses_administered_cumulative',\n",
       "       'new_doses_distributed', 'new_doses_administered',\n",
       "       'new_doses_distributed_7_day_rolling_avg',\n",
       "       'new_doses_administered_7_day_rolling_avg', 'month', 'year'],\n",
       "      dtype='object')"
      ]
     },
     "execution_count": 469,
     "metadata": {},
     "output_type": "execute_result"
    }
   ],
   "source": [
    "# Read in vaccine information\n",
    "df_vaccines = pd.read_csv('data/cdc_vaccines_distributed_administered_by_jurisdiction_timeseries.csv')\n",
    "df_vaccines['date'] = pd.to_datetime(df_vaccines['date'])\n",
    "df_vaccines['month'] = df_vaccines['date'].dt.month\n",
    "df_vaccines['year'] = df_vaccines['date'].dt.year\n",
    "df_vaccines['date'] = df_vaccines['date'].dt.to_period('M').dt.to_timestamp()\n",
    "df_vaccines = df_vaccines.groupby(['state_name', 'state_abbreviation', 'date']).sum().reset_index().sort_values(['date', 'state_name'])\n",
    "df_vaccines = df_vaccines.rename(columns={'state_name':'state'})\n",
    "df_vaccines.columns"
   ]
  },
  {
   "cell_type": "code",
   "execution_count": 564,
   "id": "1a0fce33",
   "metadata": {},
   "outputs": [],
   "source": [
    "### Read in NYT deaths dataset: https://github.com/nytimes/covid-19-data/blob/master/us-states.csv\n",
    "\n",
    "deaths_df = pd.read_csv('data/demographic/us-states.csv')\n",
    "\n",
    "deaths_df['date'] = pd.to_datetime(deaths_df['date'])\n",
    "deaths_df['date'] = deaths_df['date'].dt.to_period('M').dt.to_timestamp()\n",
    "deaths_df= deaths_df.drop_duplicates(subset=['date', 'state', 'fips', 'cases', 'deaths'])\n",
    "deaths_df = deaths_df.groupby(['state', 'date']).sum().reset_index().sort_values(['date', 'state'])\n",
    "deaths_df['month'] = deaths_df['date'].dt.month\n",
    "deaths_df['year'] = deaths_df['date'].dt.year"
   ]
  },
  {
   "cell_type": "code",
   "execution_count": 565,
   "id": "e185b098",
   "metadata": {},
   "outputs": [],
   "source": [
    "#### Combine deaths and vaccines table ####\n",
    "aggregated_df = pd.merge(deaths_df, df_vaccines, on = ['state','month', 'year'], how ='inner' )\n",
    "\n",
    "## Next is CDC population projections \n",
    "aggregated_df = pd.merge(aggregated_df, demo_df, on=['month', 'year', 'state'], how='inner')\n",
    "\n",
    "## Now combine yearly popualtion data \n",
    "aggregated_df = pd.merge(aggregated_df, pop_df, on=['year', 'state'], how='left')\n",
    "\n",
    "## Finally, let's join with Covid data\n",
    "aggregated_df = pd.merge(aggregated_df, covid_aggregated_df, on=['year','month','state'],suffixes=('_agg', '_covid'))\n",
    "\n",
    "\n",
    "aggregated_df['death_prop'] = (aggregated_df['deaths'] / aggregated_df['PopEstimate'])*100\n",
    "aggregated_df['death_event'] = (aggregated_df['death_prop'] >= 8).astype(int)\n",
    "\n",
    "aggregated_df.to_csv('Data/ModelingData/final_final_final_draft.csv')"
   ]
  },
  {
   "cell_type": "code",
   "execution_count": 566,
   "id": "b4f3588b",
   "metadata": {},
   "outputs": [
    {
     "data": {
      "text/plain": [
       "0       0.026201\n",
       "1       0.006747\n",
       "2       0.033087\n",
       "3       0.031599\n",
       "4       0.017314\n",
       "          ...   \n",
       "1245    0.057524\n",
       "1246    0.019146\n",
       "1247    0.087558\n",
       "1248    0.048204\n",
       "1249    0.020097\n",
       "Length: 1250, dtype: float64"
      ]
     },
     "execution_count": 566,
     "metadata": {},
     "output_type": "execute_result"
    }
   ],
   "source": [
    "aggregated_df['deaths'] / aggregated_df['PopEstimate']"
   ]
  },
  {
   "cell_type": "code",
   "execution_count": 553,
   "id": "3528cad2",
   "metadata": {},
   "outputs": [
    {
     "data": {
      "text/plain": [
       "Index(['state', 'date_x', 'fips', 'cases', 'deaths', 'month', 'year',\n",
       "       'state_abbreviation', 'date_y', 'index', 'doses_distributed_cumulative',\n",
       "       'doses_administered_cumulative', 'new_doses_distributed',\n",
       "       'new_doses_administered', 'new_doses_distributed_7_day_rolling_avg',\n",
       "       'new_doses_administered_7_day_rolling_avg', '0-4 years', '10-14 years',\n",
       "       '15-19 years', '20-24 years', '25-29 years', '30-34 years',\n",
       "       '35-39 years', '40-44 years', '45-49 years', '5-9 years', '50-54 years',\n",
       "       '55-59 years', '60-64 years ', '65-69 years', '70-74 years',\n",
       "       '75-79 years', '80-84 years', '85+ years', 'Year', 'date_agg',\n",
       "       'PopEstimate', 'RegionCode', 'CountryName', 'Jurisdiction',\n",
       "       'CountryCode', 'V3_Vaccine Financial Support (summary)',\n",
       "       'V1_Vaccine Prioritisation (summary)',\n",
       "       'V2A_Vaccine Availability (summary)',\n",
       "       'H8M_Protection of elderly people', 'H7_Vaccination policy', 'Date',\n",
       "       'C1M_School closing', 'C2M_Workplace closing',\n",
       "       'C3M_Cancel public events', 'C4M_Restrictions on gatherings',\n",
       "       'C5M_Close public transport', 'C6M_Stay at home requirements',\n",
       "       'C7M_Restrictions on internal movement',\n",
       "       'C8EV_International travel controls', 'E1_Income support',\n",
       "       'E2_Debt/contract relief', 'H1_Public information campaigns',\n",
       "       'H2_Testing policy', 'H3_Contact tracing', 'H6M_Facial Coverings',\n",
       "       'date_covid', 'death_prop', 'death_event', 'region', 'num_months'],\n",
       "      dtype='object')"
      ]
     },
     "execution_count": 553,
     "metadata": {},
     "output_type": "execute_result"
    }
   ],
   "source": [
    "## Now let's create the region field\n",
    "\n",
    "\n",
    "region_mapping = {\n",
    "    'West': ['California', 'Oregon', 'Washington', 'Nevada', 'Arizona', 'Alaska', 'Hawaii', 'Idaho', 'Montana', 'Wyoming', 'Utah', 'Colorado'],\n",
    "    'Midwest': ['North Dakota', 'South Dakota', 'Nebraska', 'Kansas', 'Minnesota', 'Iowa', 'Missouri', 'Wisconsin', 'Illinois', 'Indiana', 'Michigan', 'Ohio'],\n",
    "    'Southwest': ['Texas', 'Oklahoma', 'New Mexico'],\n",
    "    'Southeast': ['Florida', 'Georgia', 'South Carolina', 'North Carolina', 'Virginia', 'West Virginia', 'Maryland', 'Delaware', 'Kentucky', 'Tennessee', 'Alabama', 'Mississippi', 'Louisiana', 'Arkansas'],\n",
    "    'Northeast': ['Maine', 'New Hampshire', 'Vermont', 'Massachusetts', 'Rhode Island', 'Connecticut', 'New York', 'New Jersey', 'Pennsylvania']\n",
    "}\n",
    "\n",
    "def get_region(state):\n",
    "    \"\"\"Assigns a region based on the provided state.\"\"\"\n",
    "    for region, states in region_mapping.items():\n",
    "        if state in states:\n",
    "            return region\n",
    "    return 'Unknown'  # For states not in the mapping\n",
    "\n",
    "# Assuming your DataFrame is named 'df' and has a 'state' column:\n",
    "aggregated_df['region'] = aggregated_df['state'].apply(get_region)\n",
    "\n",
    "\n",
    "def calculate_num_months(min_date, row):\n",
    "    date2 = row['date_agg']\n",
    "    delta = relativedelta(date2, min_date)\n",
    "    months = delta.years * 12 + delta.months\n",
    "    return months\n",
    "\n",
    "min_date = aggregated_df['date_agg'].min()\n",
    "\n",
    "\n",
    "aggregated_df['num_months'] = aggregated_df.apply(lambda row: calculate_num_months(min_date, row), axis=1)\n",
    "\n",
    "aggregated_df.columns"
   ]
  },
  {
   "cell_type": "code",
   "execution_count": 555,
   "id": "8eb4bee0",
   "metadata": {},
   "outputs": [
    {
     "data": {
      "text/plain": [
       "dict_keys(['West', 'Midwest', 'Southwest', 'Southeast', 'Northeast'])"
      ]
     },
     "execution_count": 555,
     "metadata": {},
     "output_type": "execute_result"
    }
   ],
   "source": [
    "region_mapping.keys()"
   ]
  },
  {
   "cell_type": "code",
   "execution_count": 554,
   "id": "c0291b4f",
   "metadata": {},
   "outputs": [],
   "source": [
    "# df = pd.read_csv('data/ModelingData/covid_modeling_data.csv')\n",
    "drop_columns = ['date_x', 'fips','state_abbreviation', 'date_y', 'index', 'date_agg'\n",
    "                ,'CountryName', 'Jurisdiction','CountryCode','Date','date_covid', 'death_prop'\n",
    "                , 'RegionCode', 'deaths'\n",
    "               ]\n",
    "\n",
    "aggregated_df = aggregated_df.drop(drop_columns,axis=1)\n",
    "\n",
    "\n",
    "aggregated_df.columns\n",
    "\n",
    "aggregated_df.to_csv('Data/ModelingData/covid_dataset_final_3_6_24.csv')"
   ]
  },
  {
   "cell_type": "code",
   "execution_count": 543,
   "id": "10397985",
   "metadata": {},
   "outputs": [
    {
     "data": {
      "text/plain": [
       "20"
      ]
     },
     "execution_count": 543,
     "metadata": {},
     "output_type": "execute_result"
    }
   ],
   "source": [
    "\n",
    "test = aggregated_df.loc[aggregated_df['death_prop'] >= 8]\n",
    "\n",
    "test = test['state'].unique()\n",
    "\n",
    "len(test)\n",
    "\n",
    "# all_states = aggregated_df['state'].unique()\n",
    "\n",
    "# states_missing_death_event = set(all_states) - set(states_without_death_event)\n",
    "\n",
    "# states_missing_death_event"
   ]
  },
  {
   "cell_type": "code",
   "execution_count": 562,
   "id": "7322ee52",
   "metadata": {},
   "outputs": [
    {
     "data": {
      "text/plain": [
       "0"
      ]
     },
     "execution_count": 562,
     "metadata": {},
     "output_type": "execute_result"
    }
   ],
   "source": [
    "# len(aggregated_df.columns)\n",
    "aggregated_df.num_months.min()"
   ]
  }
 ],
 "metadata": {
  "kernelspec": {
   "display_name": "Python 3 (ipykernel)",
   "language": "python",
   "name": "python3"
  },
  "language_info": {
   "codemirror_mode": {
    "name": "ipython",
    "version": 3
   },
   "file_extension": ".py",
   "mimetype": "text/x-python",
   "name": "python",
   "nbconvert_exporter": "python",
   "pygments_lexer": "ipython3",
   "version": "3.11.4"
  }
 },
 "nbformat": 4,
 "nbformat_minor": 5
}
